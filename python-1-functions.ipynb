{
 "cells": [
  {
   "cell_type": "markdown",
   "metadata": {},
   "source": [
    "# Basic Programming Using Python: Creating Functions"
   ]
  },
  {
   "cell_type": "markdown",
   "metadata": {},
   "source": [
    "Before we get started, Python uses 'whitespace' as punctuation.  We indent things with a tab or four spaces to show where one statement begins and ends.  Other languages use semicolons or brackets to do a similar thing."
   ]
  },
  {
   "cell_type": "markdown",
   "metadata": {},
   "source": [
    "## Declaring a Function"
   ]
  },
  {
   "cell_type": "markdown",
   "metadata": {},
   "source": [
    "A function's job is to bundle several steps together\n",
    "so that they can be used as if they were a single command&mdash;in other words,\n",
    "to create a new verb in our programming language.\n",
    "The simplest possible function is one that produces the same value each time it is called:"
   ]
  },
  {
   "cell_type": "code",
   "execution_count": null,
   "metadata": {
    "collapsed": false
   },
   "outputs": [],
   "source": [
    "def zero():\n",
    "    return 0"
   ]
  },
  {
   "cell_type": "markdown",
   "metadata": {},
   "source": [
    "We define a new function in Python using the keyword `def`,\n",
    "followed by the function's name.\n",
    "The empty parentheses signal that the function doesn't take any inputs&mdash;we'll\n",
    "see functions that do in a moment.\n",
    "The colon signals the start of a new block of code,\n",
    "called the body of the function,\n",
    "which is indented.\n",
    "The keyword `return` then specifies the value the function produces\n",
    "when it is called.\n",
    "\n",
    "Defining a function tells the computer how to do something.\n",
    "To actually *do* that \"something\",\n",
    "we need to call the function:"
   ]
  },
  {
   "cell_type": "code",
   "execution_count": null,
   "metadata": {
    "collapsed": false
   },
   "outputs": [],
   "source": [
    "result = zero()\n",
    "print 'function produced:', result"
   ]
  },
  {
   "cell_type": "markdown",
   "metadata": {},
   "source": [
    "When Python sees the call `zero()` it sets aside whatever it was doing,\n",
    "does whatever the function `zero` tells it to do,\n",
    "and then continues with its original calculation using the function's result.\n",
    "In this case the overall effect is to assign 0 to `result`,\n",
    "which is then printed.\n",
    "We can achieve the same effect without the assignment:"
   ]
  },
  {
   "cell_type": "code",
   "execution_count": null,
   "metadata": {
    "collapsed": false
   },
   "outputs": [],
   "source": [
    "print 'function produced:', zero()"
   ]
  },
  {
   "cell_type": "markdown",
   "metadata": {},
   "source": [
    "Functions that always produce the same value aren't particularly useful,\n",
    "so most functions take input values\n",
    "called parameters or arguments.\n",
    "A parameter is a variable that is assigned a value each time the function is called.\n",
    "For example,\n",
    "this function that converts a temperature from Fahrenheit to Kelvin\n",
    "has one parameter called `temp`:"
   ]
  },
  {
   "cell_type": "code",
   "execution_count": null,
   "metadata": {
    "collapsed": false
   },
   "outputs": [],
   "source": [
    "def fahr_to_kelvin(temp):\n",
    "    return ((temp - 32.0) * 5.0/9.0) + 273.15\n",
    "\n",
    "print 'water freezes at', fahr_to_kelvin(32)\n",
    "print 'water boils at', fahr_to_kelvin(212)"
   ]
  },
  {
   "cell_type": "markdown",
   "metadata": {},
   "source": [
    "Functions can have any number of parameters.\n",
    "When we call a function,\n",
    "we must provide as many values as there are parameters;\n",
    "values are assigned to parameters from left to right.\n",
    "For example,\n",
    "here's a function that calculates the average of three values:"
   ]
  },
  {
   "cell_type": "code",
   "execution_count": null,
   "metadata": {
    "collapsed": false
   },
   "outputs": [],
   "source": [
    "def average3(one, middle, right):\n",
    "    return (one + middle + right) / 3\n",
    "\n",
    "x = 3\n",
    "y = 5\n",
    "z = 4\n",
    "print 'average is:', average3(x, y, z)"
   ]
  },
  {
   "cell_type": "markdown",
   "metadata": {},
   "source": [
    "## Key Points"
   ]
  },
  {
   "cell_type": "markdown",
   "metadata": {},
   "source": [
    "- Define a function using `def name(...)`\n",
    "- The body of a function must be indented.\n",
    "- Use `name(...)` to call a function.\n",
    "- Use `return` to return a value from a function.\n",
    "- The values passed into a function are assigned to its parameters in left-to-right order.\n",
    "- Grouping operations in functions makes code easier to understand and re-use."
   ]
  },
  {
   "cell_type": "markdown",
   "metadata": {},
   "source": [
    "# Try it yourself!"
   ]
  },
  {
   "cell_type": "markdown",
   "metadata": {},
   "source": [
    "- Make a function that can calculate the area of a rectangle\n",
    "- Make a function that can calculate the total amount of a meal.  Pass into the function three variables: meal price, tax, and tip.  Return the total amount of the meal."
   ]
  },
  {
   "cell_type": "code",
   "execution_count": null,
   "metadata": {
    "collapsed": false
   },
   "outputs": [],
   "source": []
  },
  {
   "cell_type": "markdown",
   "metadata": {},
   "source": [
    "Material from: http://software-carpentry.org"
   ]
  }
 ],
 "metadata": {
  "kernelspec": {
   "display_name": "Python 2",
   "language": "python",
   "name": "python2"
  },
  "language_info": {
   "codemirror_mode": {
    "name": "ipython",
    "version": 2
   },
   "file_extension": ".py",
   "mimetype": "text/x-python",
   "name": "python",
   "nbconvert_exporter": "python",
   "pygments_lexer": "ipython2",
   "version": "2.7.10"
  }
 },
 "nbformat": 4,
 "nbformat_minor": 0
}
