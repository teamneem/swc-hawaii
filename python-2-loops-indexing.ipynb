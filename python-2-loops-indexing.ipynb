{
 "cells": [
  {
   "cell_type": "markdown",
   "metadata": {},
   "source": [
    "# Basic Programming Using Python: Repeating Things"
   ]
  },
  {
   "cell_type": "markdown",
   "metadata": {},
   "source": [
    "## Objectives"
   ]
  },
  {
   "cell_type": "markdown",
   "metadata": {},
   "source": [
    "- Explain what `for` loops are used for.\n",
    "- Correctly identify loop variables and explain when and how they are updated.\n",
    "- Trace the execution of simple and doubly-nested `for` loops.\n",
    "- Use the `ipythonblocks` library to create two-dimensional grids of colored cells.\n",
    "- Select elements and sections of those grids using simple and compound indices."
   ]
  },
  {
   "cell_type": "markdown",
   "metadata": {},
   "source": [
    "## For Loops"
   ]
  },
  {
   "cell_type": "markdown",
   "metadata": {},
   "source": [
    "Computers are useful because they can do lots of calculations on lots of data.\n",
    "To take advantage of this,\n",
    "we need a way to express many calculations with just a few statements.\n",
    "Let's start by printing the vowels in order the hard way:"
   ]
  },
  {
   "cell_type": "code",
   "execution_count": null,
   "metadata": {
    "collapsed": false
   },
   "outputs": [],
   "source": [
    "print 'a'\n",
    "print 'e'\n",
    "print 'i'\n",
    "print 'o'\n",
    "print 'u'"
   ]
  },
  {
   "cell_type": "markdown",
   "metadata": {},
   "source": [
    "Now let's do it the easy way:"
   ]
  },
  {
   "cell_type": "code",
   "execution_count": null,
   "metadata": {
    "collapsed": false
   },
   "outputs": [],
   "source": [
    "for vowel in 'aeiou':\n",
    "    print vowel"
   ]
  },
  {
   "cell_type": "markdown",
   "metadata": {},
   "source": [
    "The keywords `for` and `in` are used to create a for loop,\n",
    "which tells the computer to execute one or more statements for each thing in some group.\n",
    "The indented line is called the body of the loop:\n",
    "it's what Python executes repeatedly.\n",
    "The variable `vowel` is the loop variable:\n",
    "each time the loop is executed,\n",
    "it is assigned the next value from the string `'aeiou'`).\n",
    "There's nothing magical about the loop variable's name:\n",
    "we could call it `x` or `fish`,\n",
    "but as with all variables,\n",
    "using something meaningful makes our programs easier to understand."
   ]
  },
  {
   "cell_type": "markdown",
   "metadata": {},
   "source": [
    "Here's another loop that repeatedly updates a variable:"
   ]
  },
  {
   "cell_type": "code",
   "execution_count": null,
   "metadata": {
    "collapsed": false
   },
   "outputs": [],
   "source": [
    "length = 0\n",
    "for vowel in 'aeiou':\n",
    "    length = length + 1\n",
    "print 'There are', length, 'vowels'"
   ]
  },
  {
   "cell_type": "markdown",
   "metadata": {},
   "source": [
    "It's worth tracing the execution of this little program step by step.\n",
    "Since there are five characters in `'aeiou'`,\n",
    "the statement on line 3 will be executed five times.\n",
    "The first time around,\n",
    "`length` is zero (the value assigned to it on line 1)\n",
    "and `vowel` is `'a'`.\n",
    "The statement adds 1 to the old value of `length`,\n",
    "producing 1,\n",
    "and updates `length` to refer to that new value.\n",
    "The next time around,\n",
    "`vowel` is `'e'` and `length` is 1,\n",
    "so `length` is updated to be 2.\n",
    "After three more updates,\n",
    "`length` is 5;\n",
    "since there is nothing left in `'aeiou'` for Python to process,\n",
    "the loop finishes\n",
    "and the `print` statement on line 4 tells us our final answer."
   ]
  },
  {
   "cell_type": "markdown",
   "metadata": {},
   "source": [
    "<hr/>\n",
    "\n",
    "### *In-Place Operators*\n",
    "\n",
    "<em>\n",
    "We can write the body of the loop more concisely using an in-place operator:\n",
    "</em>"
   ]
  },
  {
   "cell_type": "code",
   "execution_count": null,
   "metadata": {
    "collapsed": false
   },
   "outputs": [],
   "source": [
    "length = 0\n",
    "for vowel in 'aeiou':\n",
    "    length += 1\n",
    "print 'There are', length, 'vowels'"
   ]
  },
  {
   "cell_type": "markdown",
   "metadata": {},
   "source": [
    "<em>\n",
    "The symbol `+=` means\n",
    "\"add whatever is on the right to what's in the variable on the left\n",
    "and store the result in that same variable\".\n",
    "Every binary operator can be written using in-place notation:\n",
    "</em>"
   ]
  },
  {
   "cell_type": "code",
   "execution_count": null,
   "metadata": {
    "collapsed": false
   },
   "outputs": [],
   "source": [
    "mass = 50.0\n",
    "mass *= 1.5 # increase mass by half\n",
    "mass -= 5.0 # and subtract 5 kg\n",
    "print 'mass is now:', mass"
   ]
  },
  {
   "cell_type": "markdown",
   "metadata": {},
   "source": [
    "<em>\n",
    "In-place operators reduce the amount of typing we have to do,\n",
    "but more importantly,\n",
    "they reduce the amount of **reading** as well,\n",
    "which cuts down on the number of mistakes we can make.\n",
    "</em>\n",
    "<hr/>"
   ]
  },
  {
   "cell_type": "markdown",
   "metadata": {},
   "source": [
    "<hr/>\n",
    "### *Finding the Length*\n",
    "\n",
    "<em>\n",
    "Counting the number of characters in a string is such a common operation\n",
    "that Python has a built-in function to do it called `len`:\n",
    "</em>"
   ]
  },
  {
   "cell_type": "code",
   "execution_count": null,
   "metadata": {
    "collapsed": false
   },
   "outputs": [],
   "source": [
    "print 'There are', len('aeiou'), 'vowels'"
   ]
  },
  {
   "cell_type": "markdown",
   "metadata": {},
   "source": [
    "<em>\n",
    "`len` is much faster than any function we could write ourselves,\n",
    "and much easier to read than a two-line loop;\n",
    "it will also give us the length of many other things that we haven't met yet,\n",
    "so we should always use it when we can.\n",
    "</em>\n",
    "<hr/>"
   ]
  },
  {
   "cell_type": "markdown",
   "metadata": {},
   "source": [
    "## Grids, Colors, and Help"
   ]
  },
  {
   "cell_type": "markdown",
   "metadata": {},
   "source": [
    "Now that we can write loops,\n",
    "we need some more things to process with them.\n",
    "We could use images,\n",
    "but since it's hard to see individual pixels,\n",
    "we will use a library called `ipythonblocks` instead.\n",
    "Here's a simple example of it in action:"
   ]
  },
  {
   "cell_type": "code",
   "execution_count": null,
   "metadata": {
    "collapsed": false
   },
   "outputs": [],
   "source": [
    "from ipythonblocks import ImageGrid\n",
    "grid = ImageGrid(6, 3)\n",
    "grid.show()"
   ]
  },
  {
   "cell_type": "markdown",
   "metadata": {},
   "source": [
    "The first line of this program loads `ImageGrid` from the `ipythonblocks` library.\n",
    "The second line creates a 6&times;3 grid,\n",
    "and the third line asks that grid to display itself."
   ]
  },
  {
   "cell_type": "markdown",
   "metadata": {},
   "source": [
    "Like real images,\n",
    "image grids have properties:"
   ]
  },
  {
   "cell_type": "code",
   "execution_count": null,
   "metadata": {
    "collapsed": false
   },
   "outputs": [],
   "source": [
    "print 'width:', grid.width\n",
    "print 'height:', grid.height\n",
    "print 'lines_on:', grid.lines_on"
   ]
  },
  {
   "cell_type": "markdown",
   "metadata": {},
   "source": [
    "We can change some of the grid's members:"
   ]
  },
  {
   "cell_type": "code",
   "execution_count": null,
   "metadata": {
    "collapsed": false
   },
   "outputs": [],
   "source": [
    "grid.lines_on = False\n",
    "grid.show()"
   ]
  },
  {
   "cell_type": "markdown",
   "metadata": {},
   "source": [
    "but not others:"
   ]
  },
  {
   "cell_type": "code",
   "execution_count": null,
   "metadata": {
    "collapsed": false
   },
   "outputs": [],
   "source": [
    "grid.width = 100"
   ]
  },
  {
   "cell_type": "markdown",
   "metadata": {},
   "source": [
    "In this case,\n",
    "the library won't let us change the grid's size\n",
    "because it would have to guess what color to use if we added more rows and columns.\n",
    "But `ImageGrid` can do many more things;\n",
    "to find out what,\n",
    "we can ask for help:"
   ]
  },
  {
   "cell_type": "code",
   "execution_count": null,
   "metadata": {
    "collapsed": false
   },
   "outputs": [],
   "source": [
    "help(grid)"
   ]
  },
  {
   "cell_type": "markdown",
   "metadata": {},
   "source": [
    "We don't know enough yet to use all of these right now&mdash;particularly not\n",
    "the ones with double underscores in their names&mdash;but we'll explore most of them in coming lessons.\n",
    "Before we do that,\n",
    "though,\n",
    "we need to make our grids more exciting by coloring in some of the cells,\n",
    "and to do *that*, we need a way to specify colors."
   ]
  },
  {
   "cell_type": "markdown",
   "metadata": {},
   "source": [
    "The most common color scheme is called RGB,\n",
    "which defines colors according to how much red, green, and blue they contain.\n",
    "This is an additive color model:\n",
    "the color we see is the sum of the individual color values,\n",
    "each of which can range between 0 and 255."
   ]
  },
  {
   "cell_type": "markdown",
   "metadata": {},
   "source": [
    "<hr/>\n",
    "### *Bytes and Colors*\n",
    "\n",
    "<em>\n",
    "Color values go up to 255 because\n",
    "computer memory is organized into 8-bit bytes,\n",
    "and 255 (or 11111111 in base 2) is the largest integer that can be represented in one byte.\n",
    "Storing each color component in a single byte is a good balance between\n",
    "being able to represent enough colors to fool the human eye\n",
    "and being able to store color values efficiently.\n",
    "</em>\n",
    "\n",
    "<em>\n",
    "In RGB,\n",
    "black is (0, 0, 0), i.e., nothing of any color,\n",
    "and white is the maximum value of all three colors, or (255, 255, 255).\n",
    "We can think of the other colors being arranged in cube:\n",
    "the three axes represent the primary colors,\n",
    "while secondary colors are combinations of maximum values,\n",
    "and each actual color is a coordinate in this cube.\n",
    "</em>"
   ]
  },
  {
   "cell_type": "markdown",
   "metadata": {},
   "source": [
    "The IPythonBlocks library includes a function called `show_color` that we can use to explore RGB colors:"
   ]
  },
  {
   "cell_type": "code",
   "execution_count": null,
   "metadata": {
    "collapsed": false
   },
   "outputs": [],
   "source": [
    "from ipythonblocks import show_color\n",
    "show_color(255, 0, 0) # all red"
   ]
  },
  {
   "cell_type": "code",
   "execution_count": null,
   "metadata": {
    "collapsed": false
   },
   "outputs": [],
   "source": [
    "show_color(0, 255, 0) # all green\n",
    "show_color(0, 0, 255) # all blue"
   ]
  },
  {
   "cell_type": "code",
   "execution_count": null,
   "metadata": {
    "collapsed": false
   },
   "outputs": [],
   "source": [
    "show_color(50, 100, 200) # a soothing shade of blue-gray"
   ]
  },
  {
   "cell_type": "markdown",
   "metadata": {},
   "source": [
    "Standard color table:"
   ]
  },
  {
   "cell_type": "code",
   "execution_count": null,
   "metadata": {
    "collapsed": false
   },
   "outputs": [],
   "source": [
    "from ipythonblocks import colors\n",
    "c = ImageGrid(3, 2)\n",
    "c[0, 0] = colors['Fuchsia']\n",
    "c[0, 1] = colors['Salmon']\n",
    "c[1, 0] = colors['Orchid']\n",
    "c[1, 1] = colors['Lavender']\n",
    "c[2, 0] = colors['LimeGreen']\n",
    "c[2, 1] = colors['HotPink']\n",
    "c.show()"
   ]
  },
  {
   "cell_type": "markdown",
   "metadata": {},
   "source": [
    "We're finally ready to change the color of one cell of our grid:"
   ]
  },
  {
   "cell_type": "code",
   "execution_count": null,
   "metadata": {
    "collapsed": false
   },
   "outputs": [],
   "source": [
    "grid.lines_on = True\n",
    "grid[0, 0] = (200, 45, 45)\n",
    "grid.show()"
   ]
  },
  {
   "cell_type": "markdown",
   "metadata": {},
   "source": [
    "There's a lot going on in that assignment statement:\n",
    "\n",
    "1. A color is one value with three components,\n",
    "   so we write it as a tuple,\n",
    "   just as we wrote the (x,y) size of an image in the previous lessons.\n",
    "2. We use an index\n",
    "   (sometimes called a subscript\n",
    "   to refer to a particular cell in a grid,\n",
    "   just as we do when referring to a particular element of a matrix in mathematics such as *A<sub>i,j</sub>*.\n",
    "   We write the index in square brackets rather than as an actual subscript\n",
    "   because text editors didn't support fancy typesetting back in the 1950s.\n",
    "3. The corner's coordinates are (0, 0), not (1, 1).\n",
    "   Programming languages derived from C\n",
    "   (a family that includes Python, Perl, and Java)\n",
    "   all count from 0\n",
    "   for the same reason that color values run from 0 to 255 instead of 1 to 256.\n",
    "   Some other languages (notably Fortran, MATLAB, and R) count from 1.\n",
    "   The latter is more natural&mdash;nobody except a computer scientists says,\n",
    "   \"Zero, one, two, three, four,\" when counting their fingers&mdash;but\n",
    "   zero-based counting does have a few small advantages,\n",
    "   and even if it didn't,\n",
    "   we're stuck with it."
   ]
  },
  {
   "cell_type": "markdown",
   "metadata": {},
   "source": [
    "<hr/>\n",
    "### *Block Grids*\n",
    "\n",
    "<em>\n",
    "The `ipythonblocks` library has another class called `BlockGrid`\n",
    "that has all the same capabilities as `ImageGrid`,\n",
    "but which uses the same coordinate scheme as tables and spreadsheets:\n",
    "the first index counts down the columns,\n",
    "while the second counts across the rows.\n",
    "</em>\n",
    "<hr/>"
   ]
  },
  {
   "cell_type": "markdown",
   "metadata": {},
   "source": [
    "## Looping Over Grids"
   ]
  },
  {
   "cell_type": "markdown",
   "metadata": {},
   "source": [
    "Suppose we want to turn all the pixels in the first column of a grid orange.\n",
    "Once again,\n",
    "we'll do it the wrong way first:"
   ]
  },
  {
   "cell_type": "code",
   "execution_count": null,
   "metadata": {
    "collapsed": false
   },
   "outputs": [],
   "source": [
    "rectangle = ImageGrid(6, 3)\n",
    "rectangle[0, 0] = (255, 128, 0)\n",
    "rectangle[0, 1] = (255, 28, 0)\n",
    "rectangle[0, 2] = (255, 128, 0)\n",
    "rectangle.show()"
   ]
  },
  {
   "cell_type": "markdown",
   "metadata": {},
   "source": [
    "Why is this wrong?\n",
    "\n",
    "1. We are changing the color of each cell manually.\n",
    "   If we had a 100&times;200 grid,\n",
    "   that would mean writing 200 lines of code.\n",
    "2. We are writing out our color three times.\n",
    "   If we want to change the shade of orange we're using,\n",
    "   we'll have to modify each of those lines.\n",
    "3. We must be careful to write exactly as many assignment statements\n",
    "   as there are rows in the grid.\n",
    "   If we ever change the grid size,\n",
    "   we'll have to add or remove assignment statements."
   ]
  },
  {
   "cell_type": "markdown",
   "metadata": {},
   "source": [
    "Let's fix the second problem first:"
   ]
  },
  {
   "cell_type": "code",
   "execution_count": null,
   "metadata": {
    "collapsed": false
   },
   "outputs": [],
   "source": [
    "rectangle = ImageGrid(6, 3)\n",
    "orange = (255, 128, 0)\n",
    "rectangle[0, 0] = orange\n",
    "rectangle[0, 1] = orange\n",
    "rectangle[0, 2] = orange\n",
    "rectangle.show()"
   ]
  },
  {
   "cell_type": "markdown",
   "metadata": {},
   "source": [
    "This version is one line longer,\n",
    "but it's much more readable:\n",
    "putting the color value in a variable,\n",
    "then referring to that variable everywhere we want the particular shade of orange,\n",
    "makes it clear that we're using exactly the same color for each cell."
   ]
  },
  {
   "cell_type": "markdown",
   "metadata": {},
   "source": [
    "Here's our first attempt at writing one assignment statement in a loop instead of multiple assignment statements:"
   ]
  },
  {
   "cell_type": "code",
   "execution_count": null,
   "metadata": {
    "collapsed": false
   },
   "outputs": [],
   "source": [
    "rectangle = ImageGrid(6, 3)\n",
    "orange = (255, 128, 0)\n",
    "for y in ...something...:\n",
    "    rectangle[0, y] = orange\n",
    "rectangle.show()"
   ]
  },
  {
   "cell_type": "markdown",
   "metadata": {},
   "source": [
    "Our plan is to use a loop to set a variable `y` to the values 0, 1, and 2,\n",
    "and then to assign `orange` to `grid[0, y]` for each of those values.\n",
    "But what should we use in place of `...something...`?\n",
    "By analogy with our loop over a character string,\n",
    "we want a single collection that contains the numbers 0, 1, and 2.\n",
    "Fortunately,\n",
    "Python has a built-in function called `range` that generates exactly that sequence:"
   ]
  },
  {
   "cell_type": "code",
   "execution_count": null,
   "metadata": {
    "collapsed": false
   },
   "outputs": [],
   "source": [
    "for number in range(3):\n",
    "    print number"
   ]
  },
  {
   "cell_type": "markdown",
   "metadata": {},
   "source": [
    "Note the relationship between the parameter to `range` and the sequence of numbers it creates:\n",
    "if we ask for `range(N)`,\n",
    "we get 0, 1, 2, &hellip;, `N`-1,\n",
    "which is exactly the legal indices for something with N elements:"
   ]
  },
  {
   "cell_type": "code",
   "execution_count": null,
   "metadata": {
    "collapsed": false
   },
   "outputs": [],
   "source": [
    "vowels = 'aeiou'\n",
    "length = len(vowels)\n",
    "for i in range(length):\n",
    "    print i, vowels[i]"
   ]
  },
  {
   "cell_type": "markdown",
   "metadata": {},
   "source": [
    "Let's use `range` to make our loop work:"
   ]
  },
  {
   "cell_type": "code",
   "execution_count": null,
   "metadata": {
    "collapsed": false
   },
   "outputs": [],
   "source": [
    "rectangle = ImageGrid(6, 3)\n",
    "orange = (255, 128, 0)\n",
    "for y in range(3):\n",
    "    rectangle[0, y] = orange\n",
    "rectangle.show()"
   ]
  },
  {
   "cell_type": "markdown",
   "metadata": {},
   "source": [
    "This is real progress:\n",
    "as the example below shows,\n",
    "the same number of statements will work for a larger grid:"
   ]
  },
  {
   "cell_type": "code",
   "execution_count": null,
   "metadata": {
    "collapsed": false
   },
   "outputs": [],
   "source": [
    "larger = ImageGrid(20, 8)\n",
    "purple = (200, 0, 200)\n",
    "for y in range(8):\n",
    "    larger[0, y] = purple\n",
    "larger.show()"
   ]
  },
  {
   "cell_type": "markdown",
   "metadata": {},
   "source": [
    "And we can now fix the third of our problems,\n",
    "namely,\n",
    "the fact that we have to change the parameter to `range`\n",
    "each time we change the size of the grid.\n",
    "Since the grid knows how big it is,\n",
    "we can use its size as that parameter\n",
    "so that it will always be exactly the right value:"
   ]
  },
  {
   "cell_type": "code",
   "execution_count": null,
   "metadata": {
    "collapsed": false
   },
   "outputs": [],
   "source": [
    "final = ImageGrid(15, 6)\n",
    "teal = (0, 180, 180)\n",
    "for y in range(final.height):\n",
    "    final[0, y] = teal\n",
    "final.show()"
   ]
  },
  {
   "cell_type": "markdown",
   "metadata": {},
   "source": [
    "<hr/>\n",
    "### *DRY*\n",
    "\n",
    "<em>\n",
    "These improvements in our program are based on a design principle called DRY:\n",
    "Don't Repeat Yourself.\n",
    "Every fact in a program should be written down exactly once,\n",
    "and every part of the program that needs that fact should refer to that definitive value.\n",
    "Doing this helps ensure that the program is always internally consistent\n",
    "(i.e., if it's wrong, it's wrong in the same way everywhere).\n",
    "</em>\n",
    "<hr/>"
   ]
  },
  {
   "cell_type": "markdown",
   "metadata": {},
   "source": [
    "In fact,\n",
    "we can now put what we've done in a function that will set the color of any column we want:"
   ]
  },
  {
   "cell_type": "code",
   "execution_count": null,
   "metadata": {
    "collapsed": false
   },
   "outputs": [],
   "source": [
    "def color_column(grid, x, color):\n",
    "    for y in range(grid.height):\n",
    "        grid[x, y] = color\n",
    "\n",
    "first = ImageGrid(10, 4)\n",
    "color_column(first, 2, (200, 100, 50))\n",
    "first.show()"
   ]
  },
  {
   "cell_type": "markdown",
   "metadata": {},
   "source": [
    "And then:"
   ]
  },
  {
   "cell_type": "code",
   "execution_count": null,
   "metadata": {
    "collapsed": false
   },
   "outputs": [],
   "source": [
    "second = ImageGrid(20, 3)\n",
    "brown = (200, 100, 50)\n",
    "color_column(second, 5, brown)\n",
    "second.show()\n",
    "color_column(second, 10, brown)\n",
    "color_column(second, 15, brown)\n",
    "second.show()"
   ]
  },
  {
   "cell_type": "markdown",
   "metadata": {},
   "source": [
    "<hr/>\n",
    "### *When Short Names Are OK*\n",
    "\n",
    "<em>\n",
    "We said earlier that programs should use meaningful variable names.\n",
    "We are violating that rule by using `x` and `y` as variables in this function,\n",
    "but it's a defensible violation.\n",
    "Suppose we re-write our loop as:\n",
    "</em>"
   ]
  },
  {
   "cell_type": "code",
   "execution_count": null,
   "metadata": {
    "collapsed": false
   },
   "outputs": [],
   "source": [
    "def color_column(grid, x_axis_index, color):\n",
    "    for y_axis_index in range(grid.height):\n",
    "        grid[x_axis_index, y_axis_index] = color"
   ]
  },
  {
   "cell_type": "markdown",
   "metadata": {},
   "source": [
    "<em>\n",
    "The longer names are more meaningful,\n",
    "but they also takes longer to read.\n",
    "Since these variables only used for a few lines,\n",
    "users will easily be able to keep their meaning in short-term memory\n",
    "as long as they need to.\n",
    "On balance,\n",
    "therefore,\n",
    "the short name are better in this case.\n",
    "\n",
    "In general,\n",
    "a variable that holds a simple value and is only used in a few adjacent lines of code\n",
    "can (and usually should) have a short name.\n",
    "A variable that holds a complex value,\n",
    "or one which is used over more than a few lines of code,\n",
    "should have a longer name in order to optimize the tradeoff\n",
    "between reading speed and the limitations of human short-term memory.\n",
    "</em>\n",
    "<hr/>"
   ]
  },
  {
   "cell_type": "markdown",
   "metadata": {},
   "source": [
    "## Nested Loops"
   ]
  },
  {
   "cell_type": "markdown",
   "metadata": {},
   "source": [
    "What if we want to color in a rectangle of cells rather than a single column?\n",
    "For example,\n",
    "suppose we want to turn the nine pixels in the lower left corner blue.\n",
    "We could do this:\n",
    "\n",
    "```python\n",
    "grid[0, 0] = (0, 0, 255)\n",
    "grid[0, 1] = (0, 0, 255)\n",
    "grid[0, 2] = (0, 0, 255)\n",
    "grid[1, 0] = (0, 0, 255)\n",
    "grid[1, 1] = (0, 0, 255)\n",
    "grid[1, 2] = (0, 0, 255)\n",
    "grid[2, 0] = (0, 0, 255)\n",
    "grid[2, 1] = (0, 0, 255)\n",
    "grid[2, 2] = (0, 0, 255)\n",
    "```\n",
    "\n",
    "but we already know that's a bad approach.\n",
    "We'd be better off using a loop for each row to cut our program from nine lines to six:"
   ]
  },
  {
   "cell_type": "code",
   "execution_count": null,
   "metadata": {
    "collapsed": false
   },
   "outputs": [],
   "source": [
    "grid = ImageGrid(8, 5)\n",
    "for y in range(3):\n",
    "    grid[0, y] = (0, 0, 255)\n",
    "for y in range(3):\n",
    "    grid[1, y] = (0, 0, 255)\n",
    "for y in range(3):\n",
    "    grid[2, y] = (0, 0, 255)\n",
    "grid.show()"
   ]
  },
  {
   "cell_type": "markdown",
   "metadata": {},
   "source": [
    "But look more closely:\n",
    "the only difference between the three loops is the row index used in each,\n",
    "and those indices go in sequence 0, 1, and 2.\n",
    "That means we can use another loop to produce them:"
   ]
  },
  {
   "cell_type": "code",
   "execution_count": null,
   "metadata": {
    "collapsed": false
   },
   "outputs": [],
   "source": [
    "for y in range(3):\n",
    "    for x in range(3):\n",
    "        grid[x, y] = (0, 0, 255)\n",
    "grid.show()"
   ]
  },
  {
   "cell_type": "markdown",
   "metadata": {},
   "source": [
    "This is called a [nested loop](glossary.html#nested_loop).\n",
    "Each time the [outer loop](glossary.html#outer_loop) runs once,\n",
    "the [inner loop](glossary.html#inner_loop) runs three times,\n",
    "so that every possible combination of row and column index is seen exactly once:"
   ]
  },
  {
   "cell_type": "markdown",
   "metadata": {},
   "source": [
    "In this case we get the same result if we turn the loops inside out\n",
    "and run over each row once for each column,\n",
    "instead of each column once for each row&mdash;the\n",
    "only difference is the order in which blocks are colored in.\n",
    "There are cases where the order of the loops matters.\n",
    "For example,\n",
    "the range of the inner loop in the program below\n",
    "depends on the current value of the outer loop's index:"
   ]
  },
  {
   "cell_type": "code",
   "execution_count": null,
   "metadata": {
    "collapsed": false
   },
   "outputs": [],
   "source": [
    "square = ImageGrid(5, 5)\n",
    "for x in range(square.width):\n",
    "    for y in range(x): # Note: y values depend on current value of x\n",
    "        square[x, y] = (0, 128, 255)\n",
    "square.show()"
   ]
  },
  {
   "cell_type": "markdown",
   "metadata": {},
   "source": [
    "If we invert the loops&mdash;i.e.,\n",
    "if we loop over all values of `y`\n",
    "but make the range of `x` depend on the value of `y`&mdash;then\n",
    "we get the following pattern instead:"
   ]
  },
  {
   "cell_type": "code",
   "execution_count": null,
   "metadata": {
    "collapsed": false
   },
   "outputs": [],
   "source": [
    "for y in range(square.height):\n",
    "    for x in range(y): # This time x depends on y.\n",
    "        square[x, y] = (255, 128, 0)\n",
    "square.show()"
   ]
  },
  {
   "cell_type": "markdown",
   "metadata": {},
   "source": [
    "And if we want,\n",
    "we can use a single index for both our X and Y value\n",
    "to color in the diagonal:"
   ]
  },
  {
   "cell_type": "code",
   "execution_count": null,
   "metadata": {
    "collapsed": false
   },
   "outputs": [],
   "source": [
    "for i in range(square.height):\n",
    "    square[i, i] = (100, 200, 100)\n",
    "square.show()"
   ]
  },
  {
   "cell_type": "markdown",
   "metadata": {},
   "source": [
    "## Standard Colors"
   ]
  },
  {
   "cell_type": "markdown",
   "metadata": {},
   "source": [
    "Let's make one more small change to our program:"
   ]
  },
  {
   "cell_type": "code",
   "execution_count": null,
   "metadata": {
    "collapsed": false
   },
   "outputs": [],
   "source": [
    "from ipythonblocks import colors\n",
    "\n",
    "grid = ImageGrid(7, 4, fill=colors['Green'])\n",
    "for y in range(grid.height):\n",
    "    for x in range(y):\n",
    "        grid[x, y] = colors['Aqua']\n",
    "grid.show()"
   ]
  },
  {
   "cell_type": "markdown",
   "metadata": {},
   "source": [
    "`ipythonblocks.colors` is a collection of 140 named colors.\n",
    "These are just the three-part tuples we've been using:"
   ]
  },
  {
   "cell_type": "code",
   "execution_count": null,
   "metadata": {
    "collapsed": false
   },
   "outputs": [],
   "source": [
    "print 'Orange:', colors['Orange']\n",
    "print 'Yellow:', colors['Yellow']"
   ]
  },
  {
   "cell_type": "markdown",
   "metadata": {},
   "source": [
    "but using colors from the library saves us having to experiment with RGB values,\n",
    "and helps keep our programs consistent with other people's.\n",
    "We can use these colors,\n",
    "or our own,\n",
    "both to set the colors of individual cells,\n",
    "and to specify an initial color for all the cells in a grid\n",
    "using the optional `fill` parameter."
   ]
  },
  {
   "cell_type": "markdown",
   "metadata": {},
   "source": [
    "## Key Points"
   ]
  },
  {
   "cell_type": "markdown",
   "metadata": {},
   "source": [
    "- `for variable in collection` repeats one or more statements once for each item in a collection\n",
    "  - The loop variable is assigned the values from the collection one at a time.\n",
    "- `grid[x, y]` refers to a single cell in a two-dimensional grid.\n",
    "- A tuple `(red, green, blue)` specifies a color.\n",
    "  - Each component must be in the range 0&hellip;255.\n",
    "- Every fact in a program should be expressed exactly once.\n",
    "  - Every other part of the program should refer to it rather than duplicating it.\n",
    "- The function call `range(N)` produces the values 0, 1, 2, &hellip;, N-1.\n",
    "- Use nested loops to process a two-dimensional range of values.\n",
    "  - The range of the inner loop can depend on the current value of the outer loop variable."
   ]
  },
  {
   "cell_type": "markdown",
   "metadata": {},
   "source": [
    "# Try it yourself!"
   ]
  },
  {
   "cell_type": "markdown",
   "metadata": {},
   "source": [
    "Try making a picture of a simplistic shape using ipythonblocks"
   ]
  },
  {
   "cell_type": "code",
   "execution_count": null,
   "metadata": {
    "collapsed": false
   },
   "outputs": [],
   "source": [
    "grid = ImageGrid(5, 5)\n",
    "grid.show()"
   ]
  },
  {
   "cell_type": "code",
   "execution_count": null,
   "metadata": {
    "collapsed": false
   },
   "outputs": [],
   "source": [
    "for x in range(2):\n",
    "    grid[0, x] = colors['Orange']\n",
    "    grid[4, x] = colors['Orange']\n",
    "for x in range(3):\n",
    "    for y in range(3):\n",
    "        grid[1+ y, x] = colors['Green']\n",
    "grid.show()"
   ]
  },
  {
   "cell_type": "markdown",
   "metadata": {},
   "source": [
    "Material from : http://software-carpentry.org"
   ]
  }
 ],
 "metadata": {
  "kernelspec": {
   "display_name": "Python 2",
   "language": "python",
   "name": "python2"
  },
  "language_info": {
   "codemirror_mode": {
    "name": "ipython",
    "version": 2
   },
   "file_extension": ".py",
   "mimetype": "text/x-python",
   "name": "python",
   "nbconvert_exporter": "python",
   "pygments_lexer": "ipython2",
   "version": "2.7.10"
  }
 },
 "nbformat": 4,
 "nbformat_minor": 0
}
